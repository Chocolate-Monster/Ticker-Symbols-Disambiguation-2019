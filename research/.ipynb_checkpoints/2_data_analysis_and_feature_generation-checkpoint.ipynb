{
 "cells": [
  {
   "cell_type": "code",
   "execution_count": 134,
   "metadata": {},
   "outputs": [],
   "source": [
    "import pandas as pd\n",
    "import numpy as np\n",
    "pd.options.display.max_colwidth=3000\n",
    "\n",
    "import os\n",
    "import datetime\n",
    "\n",
    "import spacy\n",
    "from spacy.matcher import Matcher\n",
    "from spacy.tokens import Doc\n",
    "from spacy.attrs import LOWER, POS, ENT_TYPE, IS_ALPHA\n",
    "\n",
    "import re\n",
    "import emoji\n",
    "import string\n",
    "import nltk\n",
    "\n",
    "import html\n",
    "\n",
    "from collections import  defaultdict, Counter\n",
    "from itertools import islice\n",
    "import tqdm\n",
    "\n",
    "import utils \n",
    "import json\n",
    "import pickle\n",
    "\n",
    "import seaborn as sns\n",
    "import matplotlib.pyplot as plt"
   ]
  },
  {
   "cell_type": "markdown",
   "metadata": {},
   "source": [
    "## Read the data"
   ]
  },
  {
   "cell_type": "markdown",
   "metadata": {},
   "source": [
    "Read tickers list"
   ]
  },
  {
   "cell_type": "code",
   "execution_count": 2,
   "metadata": {},
   "outputs": [],
   "source": [
    "with open('./tickers.txt', 'r') as f:\n",
    "    ticker_list = [t.strip() for t in f.readlines()]"
   ]
  },
  {
   "cell_type": "markdown",
   "metadata": {},
   "source": [
    "Read data from stocktwits"
   ]
  },
  {
   "cell_type": "code",
   "execution_count": 3,
   "metadata": {},
   "outputs": [],
   "source": [
    "def multiple_replace(sub_dict, text):\n",
    "    if not sub_dict:\n",
    "        return text\n",
    "\n",
    "    regex = re.compile(\"(%s)\" % \"|\".join(map(re.escape, sub_dict.keys())))\n",
    "    return regex.sub(lambda mo: sub_dict[mo.string[mo.start():mo.end()]], text) "
   ]
  },
  {
   "cell_type": "code",
   "execution_count": 4,
   "metadata": {},
   "outputs": [],
   "source": [
    "def load_stocktwits_data(path):\n",
    "    result = []\n",
    "\n",
    "    for ticker in ticker_list:\n",
    "        texts = []\n",
    "        files = os.listdir(path)\n",
    "        \n",
    "        for file in filter(lambda x: x.startswith(ticker + '_'), files):\n",
    "            with open(os.path.join(path, file), 'r') as f:\n",
    "                data = json.load(f)\n",
    "                \n",
    "            for msg in data:\n",
    "                text = msg['body']\n",
    "                # delete $ sign before any ticker\n",
    "                sub_dict = {'$' + symbol['symbol']: symbol['symbol'] for symbol in msg['symbols']}\n",
    "                text = multiple_replace(sub_dict, text)\n",
    "                texts.append(text)\n",
    "\n",
    "        df = pd.DataFrame({'text': list(set(texts))})\n",
    "        df['ticker'] = ticker\n",
    "        df['label'] = 1\n",
    "        \n",
    "        result.append(df)\n",
    "        \n",
    "    return result"
   ]
  },
  {
   "cell_type": "code",
   "execution_count": 5,
   "metadata": {
    "scrolled": false
   },
   "outputs": [],
   "source": [
    "df_stock = pd.concat(\n",
    "    load_stocktwits_data('./stocktwits_hope'),\n",
    "    axis=0\n",
    ").reset_index(drop=True)"
   ]
  },
  {
   "cell_type": "markdown",
   "metadata": {},
   "source": [
    "For 5 tickers there was no data on stocktwits.com"
   ]
  },
  {
   "cell_type": "code",
   "execution_count": 6,
   "metadata": {
    "scrolled": true
   },
   "outputs": [
    {
     "data": {
      "text/plain": [
       "45"
      ]
     },
     "execution_count": 6,
     "metadata": {},
     "output_type": "execute_result"
    }
   ],
   "source": [
    "df_stock['ticker'].nunique()"
   ]
  },
  {
   "cell_type": "markdown",
   "metadata": {},
   "source": [
    "**Read twitter data**"
   ]
  },
  {
   "cell_type": "code",
   "execution_count": 7,
   "metadata": {},
   "outputs": [],
   "source": [
    "def load_twitter_data(path):\n",
    "    result = []\n",
    "    \n",
    "    for ticker in ticker_list:\n",
    "        texts = []\n",
    "        files = os.listdir(path)\n",
    "        \n",
    "        for file in filter(lambda x: x.startswith(ticker + '_'), files):\n",
    "            with open(os.path.join(path, file), 'r') as f:\n",
    "                texts.extend(set(t.strip() for t in f.readlines()))\n",
    "\n",
    "        df = pd.DataFrame({'text': list(set(texts))})\n",
    "        df['ticker'] = ticker\n",
    "        df['label'] = 0\n",
    "        \n",
    "        result.append(df)  \n",
    "        \n",
    "    return result"
   ]
  },
  {
   "cell_type": "code",
   "execution_count": 8,
   "metadata": {
    "scrolled": false
   },
   "outputs": [],
   "source": [
    "df_twitter = pd.concat(\n",
    "    load_twitter_data('./twitter'),\n",
    "    axis=0\n",
    ").reset_index(drop=True)"
   ]
  },
  {
   "cell_type": "markdown",
   "metadata": {},
   "source": [
    "On `twitter.com` there were tweets for every ticker"
   ]
  },
  {
   "cell_type": "code",
   "execution_count": 9,
   "metadata": {},
   "outputs": [
    {
     "data": {
      "text/plain": [
       "50"
      ]
     },
     "execution_count": 9,
     "metadata": {},
     "output_type": "execute_result"
    }
   ],
   "source": [
    "df_twitter['ticker'].nunique()"
   ]
  },
  {
   "cell_type": "markdown",
   "metadata": {},
   "source": [
    "---"
   ]
  },
  {
   "cell_type": "code",
   "execution_count": 10,
   "metadata": {},
   "outputs": [],
   "source": [
    "df_all = pd.concat(\n",
    "    [\n",
    "        df_twitter,\n",
    "        df_stock\n",
    "    ],\n",
    "    axis=0\n",
    ").reset_index(drop=True)"
   ]
  },
  {
   "cell_type": "code",
   "execution_count": 11,
   "metadata": {
    "scrolled": false
   },
   "outputs": [
    {
     "data": {
      "image/png": "[encoded data removed]",
      "text/plain": [
       "<Figure size 1080x720 with 1 Axes>"
      ]
     },
     "metadata": {
      "needs_background": "light"
     },
     "output_type": "display_data"
    }
   ],
   "source": [
    "plt.figure(figsize=(15,10))\n",
    "sns.countplot(\n",
    "    df_all['ticker'], \n",
    "    order=list(df_all.loc[:, 'ticker'].value_counts().index),\n",
    "    hue=df_all['label']\n",
    ")\n",
    "plt.xticks(rotation='vertical')\n",
    "plt.title('Number of examples')\n",
    "plt.show()"
   ]
  },
  {
   "cell_type": "markdown",
   "metadata": {},
   "source": [
    "The 0 label corresponds to non-ticker examples.\n",
    "* Found just right amount of data for every ticker\n",
    "\n",
    "The 1 label corresponds to ticker examples \n",
    "* Stocktwits.com could not provide  with 3000 examples for some tickers "
   ]
  },
  {
   "cell_type": "markdown",
   "metadata": {},
   "source": [
    "#### Class balance"
   ]
  },
  {
   "cell_type": "markdown",
   "metadata": {},
   "source": [
    "The data is pretty balanced, as it was planned. \n",
    "\n",
    "No data augmentation needed, roc_auc metric can be used."
   ]
  },
  {
   "cell_type": "code",
   "execution_count": 12,
   "metadata": {},
   "outputs": [
    {
     "data": {
      "image/png": "[encoded data removed]",
      "text/plain": [
       "<Figure size 432x288 with 1 Axes>"
      ]
     },
     "metadata": {},
     "output_type": "display_data"
    }
   ],
   "source": [
    "plt.pie(df_all['label'].value_counts().values, labels=df_all['label'].value_counts().values)\n",
    "plt.legend(['non ticker', 'ticker'])\n",
    "plt.show()"
   ]
  },
  {
   "cell_type": "markdown",
   "metadata": {},
   "source": [
    "## Cleaning data"
   ]
  },
  {
   "cell_type": "markdown",
   "metadata": {},
   "source": [
    "in order to clean the tweet the following operations should be done:\n",
    "    * html.unescape\n",
    "\n",
    "    * replace url entities with URL_ENT (regex)\n",
    "    * replace pic entities with PICTURE_ENT (regex)\n",
    "    * replace user entities with USER_ENT (regex)\n",
    "\n",
    "    * replace \\s simbols with ' ' to prevent spacy tokens like '    ' \n",
    "    * replace date entities with DATE_ENT (spacy)\n",
    "    * replace person entities with PERSON_ENT (spacy)\n",
    "    * replace money entities with MONEY_ENT (spacy)\n",
    "    * replace number entities with NUMBER_ENT (regex)\n",
    "\n",
    "    * remove punctuation except '!' and '?' (string)\n",
    "    * remove stopwords (nltk)"
   ]
  },
  {
   "cell_type": "code",
   "execution_count": 13,
   "metadata": {},
   "outputs": [],
   "source": [
    "url_regex = re.compile(\n",
    "    r'http[s]?://(?:[a-zA-Z]|[0-9]|[$-_@.&+]|[!*\\(\\),]|(?:%[0-9a-fA-F][0-9a-fA-F]))+', \n",
    "    re.IGNORECASE\n",
    ")\n",
    "user_regex = re.compile(r'@\\w[\\w\\d_]+')\n",
    "pic_regex = re.compile(r'pic.twitter(?:[a-zA-Z]|[0-9]|[$-_@.&+]|[!*\\(\\),]|(?:%[0-9a-fA-F][0-9a-fA-F]))+')\n",
    "\n",
    "def replace_url(text):\n",
    "    return re.sub(url_regex, ' URL_ENT ', text)\n",
    "\n",
    "def replace_user(text):\n",
    "    return re.sub(user_regex, ' PERSON_ENT ', text)\n",
    "\n",
    "def replace_pic(text):\n",
    "    return re.sub(pic_regex, ' PICTURE_ENT ', text)"
   ]
  },
  {
   "cell_type": "code",
   "execution_count": 14,
   "metadata": {},
   "outputs": [],
   "source": [
    "stopwords = set(nltk.corpus.stopwords.words('english'))\n",
    "punct_regex = re.compile('[' + re.escape(r'\"#%&\\'()*+,-./:;<=>@[\\\\]^_`{|}~$') + ']+')\n",
    "number_regex = re.compile(r'\\d+[\\d\\.\\,]*')\n",
    "bad_name_regex = re.compile(r'[A-Z]{3,}')\n",
    "bad_name_set = {'DATE_ENT', 'NUMBER_ENT', 'URL_ENT', 'PICTURE_ENT', 'PERSON_ENT', 'MONEY_ENT', 'PERCENT_ENT'}\n",
    "tickers_set = set(ticker_list)\n",
    "\n",
    "def replace_tokens(doc):\n",
    "    \"\"\" this function extracts entities and removes tokens from `spacy.doc`\n",
    "        input: `spacy.doc` - initial document \n",
    "        output: `spacy.doc` - cleaned document\n",
    "    \"\"\"\n",
    "    new_words = []\n",
    "    idx_to_delete = []\n",
    "    \n",
    "    for index, token in enumerate(doc):\n",
    "        \n",
    "        if token.text.lower() in tickers_set:\n",
    "            new_words.append(token.text)\n",
    "            continue\n",
    "        \n",
    "        if token.ent_type_ == 'DATE':\n",
    "            new_words.append('DATE_ENT')\n",
    "            continue\n",
    "            \n",
    "        if (\n",
    "                token.ent_type_ == 'PERSON' \n",
    "                and not re.match(bad_name_regex, token.text)\n",
    "                and token.text not in bad_name_set\n",
    "        ):\n",
    "            new_words.append('PERSON_ENT')\n",
    "            continue\n",
    "            \n",
    "        if token.ent_type_ == 'PERCENT' and token.text.isdigit():\n",
    "            new_words.append('PERCENT_ENT')\n",
    "            continue\n",
    "            \n",
    "        if token.ent_type_ == 'MONEY' and token.text.isdigit():\n",
    "            new_words.append('MONEY_ENT')\n",
    "            continue\n",
    "            \n",
    "        if re.match(number_regex, token.text):\n",
    "            new_words.append('NUMBER_ENT')\n",
    "            continue\n",
    "            \n",
    "        if re.match(punct_regex, token.text):\n",
    "            idx_to_delete.append(index)\n",
    "            continue\n",
    "            \n",
    "        if token.text.lower() in stopwords:\n",
    "            idx_to_delete.append(index)\n",
    "            continue\n",
    "            \n",
    "        new_words.append(token.text)\n",
    "    \n",
    "    atrr_array = doc.to_array([LOWER, POS, ENT_TYPE, IS_ALPHA])\n",
    "    atrr_array = np.delete(atrr_array, idx_to_delete, axis=0)\n",
    "\n",
    "    new_doc = Doc(doc.vocab, words=new_words)\n",
    "    \n",
    "    new_doc.from_array([LOWER, POS, ENT_TYPE, IS_ALPHA], atrr_array)\n",
    "    \n",
    "    return new_doc"
   ]
  },
  {
   "cell_type": "code",
   "execution_count": 15,
   "metadata": {},
   "outputs": [],
   "source": [
    "nlp = spacy.load('en_core_web_sm')"
   ]
  },
  {
   "cell_type": "code",
   "execution_count": 16,
   "metadata": {},
   "outputs": [],
   "source": [
    "def clean_text(text):\n",
    "    \"\"\" cleans the text\n",
    "        input: text as one string\n",
    "        output: spacy.doc\n",
    "    \"\"\"\n",
    "    text = html.unescape(text)\n",
    "    text = replace_url(text)\n",
    "    text = replace_pic(text)\n",
    "    text = replace_user(text)\n",
    "    text = re.sub('\\s+', ' ', text)\n",
    "    doc = nlp(text)\n",
    "    doc = replace_tokens(doc)\n",
    "    \n",
    "    return doc"
   ]
  },
  {
   "cell_type": "code",
   "execution_count": 17,
   "metadata": {},
   "outputs": [
    {
     "name": "stderr",
     "output_type": "stream",
     "text": [
      "100%|██████████| 239859/239859 [44:19<00:00, 90.19it/s] \n"
     ]
    }
   ],
   "source": [
    "docs = []\n",
    "\n",
    "for text in tqdm.tqdm(df_all['text'].values):\n",
    "    docs.append(clean_text(text))"
   ]
  },
  {
   "cell_type": "code",
   "execution_count": 18,
   "metadata": {},
   "outputs": [],
   "source": [
    "df_all.loc[:, 'doc']  = docs"
   ]
  },
  {
   "cell_type": "code",
   "execution_count": 19,
   "metadata": {},
   "outputs": [
    {
     "data": {
      "text/html": [
       "<div>\n",
       "<style scoped>\n",
       "    .dataframe tbody tr th:only-of-type {\n",
       "        vertical-align: middle;\n",
       "    }\n",
       "\n",
       "    .dataframe tbody tr th {\n",
       "        vertical-align: top;\n",
       "    }\n",
       "\n",
       "    .dataframe thead th {\n",
       "        text-align: right;\n",
       "    }\n",
       "</style>\n",
       "<table border=\"1\" class=\"dataframe\">\n",
       "  <thead>\n",
       "    <tr style=\"text-align: right;\">\n",
       "      <th></th>\n",
       "      <th>text</th>\n",
       "      <th>ticker</th>\n",
       "      <th>label</th>\n",
       "      <th>doc</th>\n",
       "    </tr>\n",
       "  </thead>\n",
       "  <tbody>\n",
       "    <tr>\n",
       "      <th>0</th>\n",
       "      <td>Got one. We'll keep trying to get the dirt too pic.twitter.com/2mKFdx7dLN</td>\n",
       "      <td>dirt</td>\n",
       "      <td>0</td>\n",
       "      <td>(Got, one, keep, trying, get, dirt, PICTURE_ENT)</td>\n",
       "    </tr>\n",
       "    <tr>\n",
       "      <th>1</th>\n",
       "      <td>It dosnt matter i mean dirt bag carrag her see at name that means ge comes from orphanage some 1 in his family was likly a broken whore and raised probly in a catholic 1 hence the name so we know exectly what the scumbag is</td>\n",
       "      <td>dirt</td>\n",
       "      <td>0</td>\n",
       "      <td>(dosnt, matter, mean, dirt, bag, carrag, see, name, means, ge, comes, orphanage, NUMBER_ENT, family, likly, broken, whore, raised, probly, catholic, NUMBER_ENT, hence, name, know, exectly, scumbag)</td>\n",
       "    </tr>\n",
       "    <tr>\n",
       "      <th>2</th>\n",
       "      <td>The birth of the Joe Dirt Amendment. pic.twitter.com/iUgWmuqYJo</td>\n",
       "      <td>dirt</td>\n",
       "      <td>0</td>\n",
       "      <td>(birth, Joe, Dirt, Amendment, PICTURE_ENT)</td>\n",
       "    </tr>\n",
       "  </tbody>\n",
       "</table>\n",
       "</div>"
      ],
      "text/plain": [
       "                                                                                                                                                                                                                              text  \\\n",
       "0                                                                                                                                                        Got one. We'll keep trying to get the dirt too pic.twitter.com/2mKFdx7dLN   \n",
       "1  It dosnt matter i mean dirt bag carrag her see at name that means ge comes from orphanage some 1 in his family was likly a broken whore and raised probly in a catholic 1 hence the name so we know exectly what the scumbag is   \n",
       "2                                                                                                                                                                  The birth of the Joe Dirt Amendment. pic.twitter.com/iUgWmuqYJo   \n",
       "\n",
       "  ticker  label  \\\n",
       "0   dirt      0   \n",
       "1   dirt      0   \n",
       "2   dirt      0   \n",
       "\n",
       "                                                                                                                                                                                                     doc  \n",
       "0                                                                                                                                                       (Got, one, keep, trying, get, dirt, PICTURE_ENT)  \n",
       "1  (dosnt, matter, mean, dirt, bag, carrag, see, name, means, ge, comes, orphanage, NUMBER_ENT, family, likly, broken, whore, raised, probly, catholic, NUMBER_ENT, hence, name, know, exectly, scumbag)  \n",
       "2                                                                                                                                                             (birth, Joe, Dirt, Amendment, PICTURE_ENT)  "
      ]
     },
     "execution_count": 19,
     "metadata": {},
     "output_type": "execute_result"
    }
   ],
   "source": [
    "df_all.head(3)"
   ]
  },
  {
   "cell_type": "markdown",
   "metadata": {},
   "source": [
    "## Calculate ticker position"
   ]
  },
  {
   "cell_type": "code",
   "execution_count": 20,
   "metadata": {},
   "outputs": [],
   "source": [
    "ticker_matcher = Matcher(nlp.vocab)\n",
    "\n",
    "for name in ticker_list:\n",
    "    ticker_matcher.add(name, None, [{'LOWER': name.lower()}])"
   ]
  },
  {
   "cell_type": "code",
   "execution_count": 21,
   "metadata": {},
   "outputs": [],
   "source": [
    "entity_list = ['DATE_ENT', 'NUMBER_ENT', 'URL_ENT', 'PICTURE_ENT', 'PERSON_ENT', 'MONEY_ENT', 'PERCENT_ENT']\n",
    "entity_matcher = Matcher(nlp.vocab)\n",
    "    \n",
    "for name in entity_list:\n",
    "    entity_matcher.add(name, None, [{'LOWER': name.lower()}])"
   ]
  },
  {
   "cell_type": "code",
   "execution_count": 22,
   "metadata": {},
   "outputs": [],
   "source": [
    "df_all.loc[:, 'ticker_match']  = df_all['doc'].apply(ticker_matcher)"
   ]
  },
  {
   "cell_type": "code",
   "execution_count": 23,
   "metadata": {},
   "outputs": [
    {
     "data": {
      "image/png": "[encoded data removed]",
      "text/plain": [
       "<Figure size 432x288 with 1 Axes>"
      ]
     },
     "metadata": {
      "needs_background": "light"
     },
     "output_type": "display_data"
    }
   ],
   "source": [
    "plt.hist(list(map(len, df_all['ticker_match'].values)), bins=30)\n",
    "plt.show()"
   ]
  },
  {
   "cell_type": "markdown",
   "metadata": {},
   "source": [
    "Some tweets has no ticker candidates at all, they have to be removed. \n",
    "\n",
    "Also, some tweets contain several tickers and they should be copied as different examples depending on position tickers have in doc."
   ]
  },
  {
   "cell_type": "markdown",
   "metadata": {},
   "source": [
    "**Drop examples without match**"
   ]
  },
  {
   "cell_type": "code",
   "execution_count": 24,
   "metadata": {},
   "outputs": [
    {
     "name": "stdout",
     "output_type": "stream",
     "text": [
      "shape before deletion \t (239859, 5)\n",
      "shape after deletion \t (213959, 5)\n"
     ]
    }
   ],
   "source": [
    "print('shape before deletion', '\\t', df_all.shape)\n",
    "df_all = df_all.loc[df_all['ticker_match'].apply(lambda x: x != []), :]\n",
    "print('shape after deletion', '\\t', df_all.shape)"
   ]
  },
  {
   "cell_type": "markdown",
   "metadata": {},
   "source": [
    "**Copy examples with multiple matches**"
   ]
  },
  {
   "cell_type": "code",
   "execution_count": 26,
   "metadata": {
    "scrolled": true
   },
   "outputs": [
    {
     "name": "stderr",
     "output_type": "stream",
     "text": [
      "100%|██████████| 213959/213959 [00:27<00:00, 7721.27it/s]\n"
     ]
    },
    {
     "name": "stdout",
     "output_type": "stream",
     "text": [
      "shape after copying examples \t (245099, 5)\n"
     ]
    }
   ],
   "source": [
    "new_df = []\n",
    "\n",
    "for _, row in tqdm.tqdm(df_all.iterrows(), total=df_all.shape[0]):\n",
    "    for match in row['ticker_match']:\n",
    "        df = dict()\n",
    "        df['ticker'] = nlp.vocab.strings[match[0]]\n",
    "        df['position'] = match[1]\n",
    "        df['doc'] = row['doc']\n",
    "        df['label'] = row['label']\n",
    "        df['text'] = row['text']\n",
    "        new_df.append(df)\n",
    "        \n",
    "df_all = pd.DataFrame(new_df)\n",
    "print('shape after copying examples', '\\t', df_all.shape)"
   ]
  },
  {
   "cell_type": "markdown",
   "metadata": {},
   "source": [
    "**Now the class balance is better because of Matcher examples copying:**"
   ]
  },
  {
   "cell_type": "code",
   "execution_count": 27,
   "metadata": {},
   "outputs": [
    {
     "data": {
      "image/png": "[encoded data removed]",
      "text/plain": [
       "<Figure size 432x288 with 1 Axes>"
      ]
     },
     "metadata": {},
     "output_type": "display_data"
    }
   ],
   "source": [
    "plt.pie(df_all['label'].value_counts().values, labels=df_all['label'].value_counts().values)\n",
    "plt.legend(['non ticker', 'ticker'])\n",
    "plt.show()"
   ]
  },
  {
   "cell_type": "markdown",
   "metadata": {},
   "source": [
    "Now all 50 tickers are present"
   ]
  },
  {
   "cell_type": "code",
   "execution_count": 31,
   "metadata": {
    "scrolled": true
   },
   "outputs": [
    {
     "data": {
      "text/plain": [
       "50"
      ]
     },
     "execution_count": 31,
     "metadata": {},
     "output_type": "execute_result"
    }
   ],
   "source": [
    "df_all[df_all['label'] == 1]['ticker'].nunique()"
   ]
  },
  {
   "cell_type": "markdown",
   "metadata": {},
   "source": [
    "Example of what ticker Matcher did with ticker `COW` - found 98 examples\n",
    "\n",
    "(there was no `COW` ticker examples before)"
   ]
  },
  {
   "cell_type": "code",
   "execution_count": 40,
   "metadata": {},
   "outputs": [
    {
     "data": {
      "text/plain": [
       "(98, 5)"
      ]
     },
     "execution_count": 40,
     "metadata": {},
     "output_type": "execute_result"
    }
   ],
   "source": [
    "df_all[(df_all['label'] == 1) & (df_all['ticker'] == 'cow')].shape"
   ]
  },
  {
   "cell_type": "code",
   "execution_count": 39,
   "metadata": {},
   "outputs": [
    {
     "data": {
      "text/html": [
       "<div>\n",
       "<style scoped>\n",
       "    .dataframe tbody tr th:only-of-type {\n",
       "        vertical-align: middle;\n",
       "    }\n",
       "\n",
       "    .dataframe tbody tr th {\n",
       "        vertical-align: top;\n",
       "    }\n",
       "\n",
       "    .dataframe thead th {\n",
       "        text-align: right;\n",
       "    }\n",
       "</style>\n",
       "<table border=\"1\" class=\"dataframe\">\n",
       "  <thead>\n",
       "    <tr style=\"text-align: right;\">\n",
       "      <th></th>\n",
       "      <th>0</th>\n",
       "      <th>1</th>\n",
       "      <th>2</th>\n",
       "      <th>3</th>\n",
       "      <th>4</th>\n",
       "    </tr>\n",
       "  </thead>\n",
       "  <tbody>\n",
       "    <tr>\n",
       "      <th>index</th>\n",
       "      <td>doc</td>\n",
       "      <td>label</td>\n",
       "      <td>position</td>\n",
       "      <td>text</td>\n",
       "      <td>ticker</td>\n",
       "    </tr>\n",
       "    <tr>\n",
       "      <th>174379</th>\n",
       "      <td>(Agriculture, ETF, MOO, lost, NUMBER_ENT, NUMBER_ENT, DATE_ENT, DATE_ENT, remains, NUMBER_ENT, momentum, trending, DBA, SOIL, COW)</td>\n",
       "      <td>1</td>\n",
       "      <td>14</td>\n",
       "      <td>Agriculture ETF MOO lost 0.23 (0.43%) last week, remains below 20-dMA; S/T momentum trending down. DBA SOIL $COW</td>\n",
       "      <td>cow</td>\n",
       "    </tr>\n",
       "  </tbody>\n",
       "</table>\n",
       "</div>"
      ],
      "text/plain": [
       "                                                                                                                                         0  \\\n",
       "index                                                                                                                                  doc   \n",
       "174379  (Agriculture, ETF, MOO, lost, NUMBER_ENT, NUMBER_ENT, DATE_ENT, DATE_ENT, remains, NUMBER_ENT, momentum, trending, DBA, SOIL, COW)   \n",
       "\n",
       "            1         2  \\\n",
       "index   label  position   \n",
       "174379      1        14   \n",
       "\n",
       "                                                                                                                       3  \\\n",
       "index                                                                                                               text   \n",
       "174379  Agriculture ETF MOO lost 0.23 (0.43%) last week, remains below 20-dMA; S/T momentum trending down. DBA SOIL $COW   \n",
       "\n",
       "             4  \n",
       "index   ticker  \n",
       "174379     cow  "
      ]
     },
     "execution_count": 39,
     "metadata": {},
     "output_type": "execute_result"
    }
   ],
   "source": [
    "df_all[(df_all['label'] == 1) & (df_all['ticker'] == 'cow')].loc[174379].reset_index().T"
   ]
  },
  {
   "cell_type": "markdown",
   "metadata": {},
   "source": [
    "for `RING` and `CROP` tickers -  got some relevant examples\n",
    "\n",
    "for `FISH` and `DIRT` - found only bad examples (these words are not tickers there) \n",
    "\n",
    "but: \n",
    "    * number of examples very small\n",
    "    * we still have the stockmarket context around them :) "
   ]
  },
  {
   "cell_type": "markdown",
   "metadata": {},
   "source": [
    "## Features"
   ]
  },
  {
   "cell_type": "markdown",
   "metadata": {},
   "source": [
    "The following features were calculated:\n",
    "    * length of clean tweet (spacy tokens count)\n",
    "    * lengths of words in clean tweet (median, mean, max)\n",
    "    * absolute minimal distances to all entities (missing values filled with 999)\n",
    "    * relative position in the document\n",
    "    * presense of '!', '?',  any emoji, special emoji"
   ]
  },
  {
   "cell_type": "markdown",
   "metadata": {},
   "source": [
    "Also another features were tested: presence of top_words and presense of top_verbs.\n",
    "\n",
    "But:\n",
    "\n",
    "* none of them was in top-50 xgboost features\n",
    "* it took too much time to calculate top_words on each fold during cross validation \n",
    "* tf-idf, in my opinion, gets the top words very well\n",
    "\n",
    "That is why top_words features are not implemented"
   ]
  },
  {
   "cell_type": "code",
   "execution_count": 50,
   "metadata": {},
   "outputs": [],
   "source": [
    "special_emoji_regex = re.compile(r'[\\🚀\\🔥\\👀\\🤑\\🐻\\📈\\💰\\🤔\\💲\\💵\\💸\\€\\£]+', re.UNICODE)\n",
    "\n",
    "def has_special_emoji(text):\n",
    "    return len(re.findall(special_emoji_regex, text)) > 0\n",
    "\n",
    "def has_emoji(text):\n",
    "    emoji_list = []\n",
    "    data = re.findall(r'\\W', text)\n",
    "    for word in data:\n",
    "        if any(char in emoji.UNICODE_EMOJI for char in word):\n",
    "            emoji_list.append(word)\n",
    "    return len(emoji_list) > 0\n",
    "\n",
    "def get_distances_to_ents(doc, tic_pos):\n",
    "    res_dict = defaultdict(lambda: 999)\n",
    "    \n",
    "    for res in entity_matcher(doc):\n",
    "        key = nlp.vocab.strings[res[0]]\n",
    "        res_dict[key] = min(res_dict[key], abs(tic_pos - res[1]))\n",
    "    \n",
    "    return res_dict\n",
    "\n",
    "def get_features(doc, tic_pos):\n",
    "    doc_text = doc.text\n",
    "    one_ex_dict = dict()\n",
    "    \n",
    "    one_ex_dict['word_count'] = len(doc)\n",
    "    word_lens = [len(tok) for tok in doc]\n",
    "    one_ex_dict['word_max'] = np.max(word_lens)\n",
    "    one_ex_dict['word_mean'] = np.mean(word_lens)\n",
    "    one_ex_dict['word_median'] = np.median(word_lens)\n",
    "    \n",
    "    ticker = doc[tic_pos]\n",
    "    \n",
    "    one_ex_dict['relative_pos'] = tic_pos / len(doc)\n",
    "    \n",
    "    distances_to_ents = get_distances_to_ents(doc, tic_pos)\n",
    "    for ent in entity_list:\n",
    "        one_ex_dict['{}_distance'.format(ent)] = distances_to_ents[ent]\n",
    "    \n",
    "    one_ex_dict['has_emoji'] = has_emoji(doc_text)\n",
    "    one_ex_dict['has_special_emoji'] = has_special_emoji(doc_text)\n",
    "    \n",
    "    one_ex_dict['has_!'] = '!' in doc_text\n",
    "    one_ex_dict['has_?'] = '?' in doc_text\n",
    "    \n",
    "    return one_ex_dict\n",
    "\n",
    "def build_features(df):\n",
    "    result = []\n",
    "\n",
    "    for _, row in df.iterrows():\n",
    "        result.append(get_features(row['doc'], row['position']))\n",
    "        \n",
    "    return pd.DataFrame(result)"
   ]
  },
  {
   "cell_type": "code",
   "execution_count": 51,
   "metadata": {},
   "outputs": [],
   "source": [
    "df_all = pd.concat(\n",
    "    [\n",
    "        df_all,\n",
    "        build_features(df_all)\n",
    "    ],\n",
    "    axis=1\n",
    ")"
   ]
  },
  {
   "cell_type": "markdown",
   "metadata": {},
   "source": [
    "## Save the results"
   ]
  },
  {
   "cell_type": "code",
   "execution_count": null,
   "metadata": {},
   "outputs": [],
   "source": [
    "nlp.vocab.to_disk('vocab.txt')"
   ]
  },
  {
   "cell_type": "code",
   "execution_count": null,
   "metadata": {},
   "outputs": [],
   "source": [
    "with open('docs.bin', 'wb') as f:\n",
    "    for doc in tqdm.tqdm(df_all['doc'].values):\n",
    "        pickle.dump(utils.serialize_doc(doc), f)"
   ]
  },
  {
   "cell_type": "code",
   "execution_count": null,
   "metadata": {},
   "outputs": [],
   "source": [
    "df_all.drop('doc', axis=1, inplace=True)\n",
    "df_all.to_csv('./df_all.csv', index=None)"
   ]
  },
  {
   "cell_type": "markdown",
   "metadata": {},
   "source": [
    "## Some analytics"
   ]
  },
  {
   "cell_type": "markdown",
   "metadata": {},
   "source": [
    "read the features"
   ]
  },
  {
   "cell_type": "code",
   "execution_count": 135,
   "metadata": {},
   "outputs": [],
   "source": [
    "df_all = pd.read_csv('./all_feats_for_analysis.csv')"
   ]
  },
  {
   "cell_type": "code",
   "execution_count": 136,
   "metadata": {},
   "outputs": [],
   "source": [
    "vocab = spacy.vocab.Vocab().from_disk('vocab.txt')\n",
    "docs = []\n",
    "\n",
    "with open('docs.bin', 'rb') as f:\n",
    "    while True:\n",
    "        try:\n",
    "            docs.append(utils.deserialize_doc(pickle.load(f), vocab))\n",
    "        except EOFError:\n",
    "            break\n",
    "\n",
    "df_all.loc[:, 'doc'] = docs"
   ]
  },
  {
   "cell_type": "code",
   "execution_count": 140,
   "metadata": {},
   "outputs": [
    {
     "data": {
      "text/html": [
       "<div>\n",
       "<style scoped>\n",
       "    .dataframe tbody tr th:only-of-type {\n",
       "        vertical-align: middle;\n",
       "    }\n",
       "\n",
       "    .dataframe tbody tr th {\n",
       "        vertical-align: top;\n",
       "    }\n",
       "\n",
       "    .dataframe thead th {\n",
       "        text-align: right;\n",
       "    }\n",
       "</style>\n",
       "<table border=\"1\" class=\"dataframe\">\n",
       "  <thead>\n",
       "    <tr style=\"text-align: right;\">\n",
       "      <th></th>\n",
       "      <th>doc</th>\n",
       "      <th>label</th>\n",
       "      <th>position</th>\n",
       "      <th>text</th>\n",
       "      <th>ticker</th>\n",
       "      <th>DATE_ENT_distance</th>\n",
       "      <th>MONEY_ENT_distance</th>\n",
       "      <th>NUMBER_ENT_distance</th>\n",
       "      <th>PERCENT_ENT_distance</th>\n",
       "      <th>PERSON_ENT_distance</th>\n",
       "      <th>...</th>\n",
       "      <th>URL_ENT_distance</th>\n",
       "      <th>has_!</th>\n",
       "      <th>has_?</th>\n",
       "      <th>has_emoji</th>\n",
       "      <th>has_special_emoji</th>\n",
       "      <th>relative_pos</th>\n",
       "      <th>word_count</th>\n",
       "      <th>word_max</th>\n",
       "      <th>word_mean</th>\n",
       "      <th>word_median</th>\n",
       "    </tr>\n",
       "  </thead>\n",
       "  <tbody>\n",
       "    <tr>\n",
       "      <th>245098</th>\n",
       "      <td>(Entry, Material, Definitive, URL_ENT, FARM)</td>\n",
       "      <td>1</td>\n",
       "      <td>4</td>\n",
       "      <td>Entry into a Material Definitive  http://www.conferencecalltranscripts.org/8/summary2/?id=2832355 FARM</td>\n",
       "      <td>farm</td>\n",
       "      <td>999</td>\n",
       "      <td>999</td>\n",
       "      <td>999</td>\n",
       "      <td>999</td>\n",
       "      <td>999</td>\n",
       "      <td>...</td>\n",
       "      <td>1</td>\n",
       "      <td>False</td>\n",
       "      <td>False</td>\n",
       "      <td>False</td>\n",
       "      <td>False</td>\n",
       "      <td>0.8</td>\n",
       "      <td>5</td>\n",
       "      <td>10</td>\n",
       "      <td>6.8</td>\n",
       "      <td>7.0</td>\n",
       "    </tr>\n",
       "  </tbody>\n",
       "</table>\n",
       "<p>1 rows × 21 columns</p>\n",
       "</div>"
      ],
      "text/plain": [
       "                                                 doc  label  position  \\\n",
       "245098  (Entry, Material, Definitive, URL_ENT, FARM)      1         4   \n",
       "\n",
       "                                                                                                          text  \\\n",
       "245098  Entry into a Material Definitive  http://www.conferencecalltranscripts.org/8/summary2/?id=2832355 FARM   \n",
       "\n",
       "       ticker  DATE_ENT_distance  MONEY_ENT_distance  NUMBER_ENT_distance  \\\n",
       "245098   farm                999                 999                  999   \n",
       "\n",
       "        PERCENT_ENT_distance  PERSON_ENT_distance  ...  URL_ENT_distance  \\\n",
       "245098                   999                  999  ...                 1   \n",
       "\n",
       "        has_!  has_?  has_emoji  has_special_emoji  relative_pos  word_count  \\\n",
       "245098  False  False      False              False           0.8           5   \n",
       "\n",
       "        word_max  word_mean  word_median  \n",
       "245098        10        6.8          7.0  \n",
       "\n",
       "[1 rows x 21 columns]"
      ]
     },
     "execution_count": 140,
     "metadata": {},
     "output_type": "execute_result"
    }
   ],
   "source": [
    "df_all.tail(1)"
   ]
  },
  {
   "cell_type": "markdown",
   "metadata": {},
   "source": [
    "---"
   ]
  },
  {
   "cell_type": "code",
   "execution_count": 52,
   "metadata": {},
   "outputs": [],
   "source": [
    "def get_top_words(df, label, pos_filter, stop_words):\n",
    "    \"\"\"collects all words for giving label if they are not in stop_list and they passed through pos_filter\n",
    "        input:\n",
    "            * df\n",
    "            * label \n",
    "            * pos_filter \n",
    "            * stop_words\n",
    "        output:\n",
    "            * list of words (alphabetic and lower)\n",
    "    \"\"\"\n",
    "    result = []\n",
    "    stop_words_set = set(map(lambda x: x.lower(), stop_words))\n",
    "    \n",
    "    for words in df.loc[df['label'] == label, 'doc']:\n",
    "        result.extend(filter(\n",
    "            lambda x: pos_filter(x.pos_) and x.text.lower() not in stop_words_set and x.text.isalpha(),\n",
    "            words\n",
    "        ))\n",
    "        \n",
    "    return list(map(lambda x: str(x).lower(), result))\n",
    "\n",
    "def top_wrds(words, count=20):\n",
    "    return [x for x, _ in Counter(words).most_common(count)]\n",
    "\n",
    "def get_top_words_exclusive(words_a, words_b, count=10, exclude_count=100):\n",
    "    \"\"\"gets top words from list A, so that they are not in top words from list B\n",
    "        input:\n",
    "            * words_a - list of words A, \n",
    "            * words_b - list of words B, \n",
    "            * count - number of top words from list A to return, \n",
    "            * exclude_count - number of top words from list B to check.\n",
    "        ouput:\n",
    "            * top words from list A\n",
    "    \"\"\"\n",
    "    def fst(x):\n",
    "        \"first element\"\n",
    "        return x[0]\n",
    "    \n",
    "    words_a_cnt = Counter(words_a)\n",
    "    words_b_cnt = Counter(words_b)\n",
    "    \n",
    "    return list(islice(\n",
    "        (x for x, _ in words_a_cnt.most_common() \n",
    "        if x not in set(map(fst, words_b_cnt.most_common(exclude_count)))),\n",
    "        count\n",
    "    ))"
   ]
  },
  {
   "cell_type": "code",
   "execution_count": 53,
   "metadata": {},
   "outputs": [],
   "source": [
    "stop_words = entity_list + ticker_list\n",
    "\n",
    "non_ticker_words = get_top_words(df_all, 0, lambda pos: pos != 'VERB', stop_words)\n",
    "ticker_words = get_top_words(df_all, 1, lambda pos: pos != 'VERB', stop_words)\n",
    "\n",
    "non_ticker_verbs = get_top_words(df_all, 0, lambda pos: pos == 'VERB', stop_words)\n",
    "ticker_verbs = get_top_words(df_all, 1, lambda pos: pos == 'VERB', stop_words)"
   ]
  },
  {
   "cell_type": "code",
   "execution_count": 54,
   "metadata": {},
   "outputs": [],
   "source": [
    "non_ticker_words_top = get_top_words_exclusive(non_ticker_words, ticker_words)\n",
    "ticker_words_top = get_top_words_exclusive(ticker_words, non_ticker_words)\n",
    "\n",
    "non_ticker_verbs_top = get_top_words_exclusive(non_ticker_verbs, ticker_verbs)\n",
    "ticker_verbs_top = get_top_words_exclusive(ticker_verbs, non_ticker_verbs)"
   ]
  },
  {
   "cell_type": "markdown",
   "metadata": {},
   "source": [
    "These are \n",
    "\n",
    "**top 10 words/verbs for tickers** \n",
    "\n",
    "that are not represented in top 100 for non-tickers"
   ]
  },
  {
   "cell_type": "code",
   "execution_count": 55,
   "metadata": {},
   "outputs": [
    {
     "data": {
      "text/plain": [
       "['shares',\n",
       " 'short',\n",
       " 'earnings',\n",
       " 'eps',\n",
       " 'insider',\n",
       " 'volume',\n",
       " 'market',\n",
       " 'estimize',\n",
       " 'chart',\n",
       " 'ugaz']"
      ]
     },
     "execution_count": 55,
     "metadata": {},
     "output_type": "execute_result"
    }
   ],
   "source": [
    "ticker_words_top"
   ]
  },
  {
   "cell_type": "code",
   "execution_count": 56,
   "metadata": {},
   "outputs": [
    {
     "data": {
      "text/plain": [
       "['reporting',\n",
       " 'expecting',\n",
       " 'filed',\n",
       " 'report',\n",
       " 'settled',\n",
       " 'sold',\n",
       " 'estimates',\n",
       " 'disposed',\n",
       " 'announces',\n",
       " 'picked']"
      ]
     },
     "execution_count": 56,
     "metadata": {},
     "output_type": "execute_result"
    }
   ],
   "source": [
    "ticker_verbs_top"
   ]
  },
  {
   "cell_type": "markdown",
   "metadata": {},
   "source": [
    "**Top words/verbs for ticker and non-tiker examples**"
   ]
  },
  {
   "cell_type": "code",
   "execution_count": 57,
   "metadata": {},
   "outputs": [
    {
     "data": {
      "text/html": [
       "<div>\n",
       "<style scoped>\n",
       "    .dataframe tbody tr th:only-of-type {\n",
       "        vertical-align: middle;\n",
       "    }\n",
       "\n",
       "    .dataframe tbody tr th {\n",
       "        vertical-align: top;\n",
       "    }\n",
       "\n",
       "    .dataframe thead th {\n",
       "        text-align: right;\n",
       "    }\n",
       "</style>\n",
       "<table border=\"1\" class=\"dataframe\">\n",
       "  <thead>\n",
       "    <tr style=\"text-align: right;\">\n",
       "      <th></th>\n",
       "      <th>top_non_ticker_verbs</th>\n",
       "      <th>top_non_ticker_words</th>\n",
       "      <th>top_ticker_verbs</th>\n",
       "      <th>top_ticker_words</th>\n",
       "    </tr>\n",
       "  </thead>\n",
       "  <tbody>\n",
       "    <tr>\n",
       "      <th>0</th>\n",
       "      <td>get</td>\n",
       "      <td>like</td>\n",
       "      <td>reporting</td>\n",
       "      <td>shares</td>\n",
       "    </tr>\n",
       "    <tr>\n",
       "      <th>1</th>\n",
       "      <td>would</td>\n",
       "      <td>one</td>\n",
       "      <td>expecting</td>\n",
       "      <td>short</td>\n",
       "    </tr>\n",
       "    <tr>\n",
       "      <th>2</th>\n",
       "      <td>know</td>\n",
       "      <td>time</td>\n",
       "      <td>filed</td>\n",
       "      <td>earnings</td>\n",
       "    </tr>\n",
       "    <tr>\n",
       "      <th>3</th>\n",
       "      <td>got</td>\n",
       "      <td>people</td>\n",
       "      <td>see</td>\n",
       "      <td>eps</td>\n",
       "    </tr>\n",
       "    <tr>\n",
       "      <th>4</th>\n",
       "      <td>go</td>\n",
       "      <td>new</td>\n",
       "      <td>buy</td>\n",
       "      <td>insider</td>\n",
       "    </tr>\n",
       "    <tr>\n",
       "      <th>5</th>\n",
       "      <td>make</td>\n",
       "      <td>good</td>\n",
       "      <td>report</td>\n",
       "      <td>volume</td>\n",
       "    </tr>\n",
       "    <tr>\n",
       "      <th>6</th>\n",
       "      <td>see</td>\n",
       "      <td>us</td>\n",
       "      <td>settled</td>\n",
       "      <td>market</td>\n",
       "    </tr>\n",
       "    <tr>\n",
       "      <th>7</th>\n",
       "      <td>think</td>\n",
       "      <td>really</td>\n",
       "      <td>going</td>\n",
       "      <td>estimize</td>\n",
       "    </tr>\n",
       "    <tr>\n",
       "      <th>8</th>\n",
       "      <td>want</td>\n",
       "      <td>back</td>\n",
       "      <td>get</td>\n",
       "      <td>chart</td>\n",
       "    </tr>\n",
       "    <tr>\n",
       "      <th>9</th>\n",
       "      <td>could</td>\n",
       "      <td>even</td>\n",
       "      <td>sold</td>\n",
       "      <td>ugaz</td>\n",
       "    </tr>\n",
       "    <tr>\n",
       "      <th>10</th>\n",
       "      <td>need</td>\n",
       "      <td>still</td>\n",
       "      <td>go</td>\n",
       "      <td>new</td>\n",
       "    </tr>\n",
       "    <tr>\n",
       "      <th>11</th>\n",
       "      <td>love</td>\n",
       "      <td>much</td>\n",
       "      <td>estimates</td>\n",
       "      <td>analysts</td>\n",
       "    </tr>\n",
       "    <tr>\n",
       "      <th>12</th>\n",
       "      <td>ca</td>\n",
       "      <td>via</td>\n",
       "      <td>disposed</td>\n",
       "      <td>stocks</td>\n",
       "    </tr>\n",
       "    <tr>\n",
       "      <th>13</th>\n",
       "      <td>going</td>\n",
       "      <td>also</td>\n",
       "      <td>announces</td>\n",
       "      <td>stock</td>\n",
       "    </tr>\n",
       "    <tr>\n",
       "      <th>14</th>\n",
       "      <td>made</td>\n",
       "      <td>never</td>\n",
       "      <td>believe</td>\n",
       "      <td>ung</td>\n",
       "    </tr>\n",
       "    <tr>\n",
       "      <th>15</th>\n",
       "      <td>take</td>\n",
       "      <td>right</td>\n",
       "      <td>picked</td>\n",
       "      <td>qqq</td>\n",
       "    </tr>\n",
       "    <tr>\n",
       "      <th>16</th>\n",
       "      <td>let</td>\n",
       "      <td>first</td>\n",
       "      <td>looking</td>\n",
       "      <td>revenue</td>\n",
       "    </tr>\n",
       "    <tr>\n",
       "      <th>17</th>\n",
       "      <td>say</td>\n",
       "      <td>way</td>\n",
       "      <td>sell</td>\n",
       "      <td>tlt</td>\n",
       "    </tr>\n",
       "    <tr>\n",
       "      <th>18</th>\n",
       "      <td>come</td>\n",
       "      <td>great</td>\n",
       "      <td>would</td>\n",
       "      <td>amc</td>\n",
       "    </tr>\n",
       "    <tr>\n",
       "      <th>19</th>\n",
       "      <td>said</td>\n",
       "      <td>video</td>\n",
       "      <td>could</td>\n",
       "      <td>buy</td>\n",
       "    </tr>\n",
       "  </tbody>\n",
       "</table>\n",
       "</div>"
      ],
      "text/plain": [
       "   top_non_ticker_verbs top_non_ticker_words top_ticker_verbs top_ticker_words\n",
       "0                   get                 like        reporting           shares\n",
       "1                 would                  one        expecting            short\n",
       "2                  know                 time            filed         earnings\n",
       "3                   got               people              see              eps\n",
       "4                    go                  new              buy          insider\n",
       "5                  make                 good           report           volume\n",
       "6                   see                   us          settled           market\n",
       "7                 think               really            going         estimize\n",
       "8                  want                 back              get            chart\n",
       "9                 could                 even             sold             ugaz\n",
       "10                 need                still               go              new\n",
       "11                 love                 much        estimates         analysts\n",
       "12                   ca                  via         disposed           stocks\n",
       "13                going                 also        announces            stock\n",
       "14                 made                never          believe              ung\n",
       "15                 take                right           picked              qqq\n",
       "16                  let                first          looking          revenue\n",
       "17                  say                  way             sell              tlt\n",
       "18                 come                great            would              amc\n",
       "19                 said                video            could              buy"
      ]
     },
     "execution_count": 57,
     "metadata": {},
     "output_type": "execute_result"
    }
   ],
   "source": [
    "pd.DataFrame({\n",
    "    'top_non_ticker_words': top_wrds(non_ticker_words),\n",
    "    'top_ticker_words': top_wrds(ticker_words),\n",
    "    'top_non_ticker_verbs': top_wrds(non_ticker_verbs),\n",
    "    'top_ticker_verbs': top_wrds(ticker_verbs), \n",
    "})"
   ]
  },
  {
   "cell_type": "markdown",
   "metadata": {},
   "source": [
    "---"
   ]
  },
  {
   "cell_type": "code",
   "execution_count": 93,
   "metadata": {},
   "outputs": [],
   "source": [
    "def get_emoji(text):\n",
    "    emoji_list = []\n",
    "    data = re.findall(r'\\W', text)\n",
    "    for word in data:\n",
    "        if any(char in emoji.UNICODE_EMOJI for char in word):\n",
    "            emoji_list.append(word)\n",
    "    return emoji_list"
   ]
  },
  {
   "cell_type": "code",
   "execution_count": 114,
   "metadata": {},
   "outputs": [],
   "source": [
    "emoji_non_ticker = Counter(get_emoji(\n",
    "        ' '.join(df_all[(df_all['has_emoji'] == 1)&(df_all['label'] == 0)]['text'].values)\n",
    "    )\n",
    ")\n",
    "emoji_ticker = Counter(get_emoji(\n",
    "        ' '.join(df_all[(df_all['has_emoji'] == 1)&(df_all['label'] == 1)]['text'].values)\n",
    "    )\n",
    ")"
   ]
  },
  {
   "cell_type": "code",
   "execution_count": 141,
   "metadata": {},
   "outputs": [],
   "source": [
    "df_emoji_non_tic = pd.DataFrame({\n",
    "    'emoji_non_ticker': [x[0] for x, _ in emoji_non_ticker.most_common(10)]}) \n",
    "df_emoji_tic = pd.DataFrame({\n",
    "    'emoji_ticker': [x[0] for x, _ in emoji_ticker.most_common(10)]}) "
   ]
  },
  {
   "cell_type": "code",
   "execution_count": 142,
   "metadata": {},
   "outputs": [
    {
     "data": {
      "text/html": [
       "<div>\n",
       "<style scoped>\n",
       "    .dataframe tbody tr th:only-of-type {\n",
       "        vertical-align: middle;\n",
       "    }\n",
       "\n",
       "    .dataframe tbody tr th {\n",
       "        vertical-align: top;\n",
       "    }\n",
       "\n",
       "    .dataframe thead th {\n",
       "        text-align: right;\n",
       "    }\n",
       "</style>\n",
       "<table border=\"1\" class=\"dataframe\">\n",
       "  <thead>\n",
       "    <tr style=\"text-align: right;\">\n",
       "      <th></th>\n",
       "      <th>emoji_non_ticker</th>\n",
       "      <th>emoji_ticker</th>\n",
       "    </tr>\n",
       "  </thead>\n",
       "  <tbody>\n",
       "    <tr>\n",
       "      <th>0</th>\n",
       "      <td>®</td>\n",
       "      <td>🚀</td>\n",
       "    </tr>\n",
       "    <tr>\n",
       "      <th>1</th>\n",
       "      <td>™</td>\n",
       "      <td>😂</td>\n",
       "    </tr>\n",
       "    <tr>\n",
       "      <th>2</th>\n",
       "      <td>©</td>\n",
       "      <td>👍</td>\n",
       "    </tr>\n",
       "    <tr>\n",
       "      <th>3</th>\n",
       "      <td>⬆</td>\n",
       "      <td>🔥</td>\n",
       "    </tr>\n",
       "    <tr>\n",
       "      <th>4</th>\n",
       "      <td>‼</td>\n",
       "      <td>🤑</td>\n",
       "    </tr>\n",
       "    <tr>\n",
       "      <th>5</th>\n",
       "      <td>▪</td>\n",
       "      <td>👀</td>\n",
       "    </tr>\n",
       "    <tr>\n",
       "      <th>6</th>\n",
       "      <td></td>\n",
       "      <td>💰</td>\n",
       "    </tr>\n",
       "    <tr>\n",
       "      <th>7</th>\n",
       "      <td></td>\n",
       "      <td>🐻</td>\n",
       "    </tr>\n",
       "    <tr>\n",
       "      <th>8</th>\n",
       "      <td></td>\n",
       "      <td>📈</td>\n",
       "    </tr>\n",
       "    <tr>\n",
       "      <th>9</th>\n",
       "      <td></td>\n",
       "      <td>🤔</td>\n",
       "    </tr>\n",
       "  </tbody>\n",
       "</table>\n",
       "</div>"
      ],
      "text/plain": [
       "  emoji_non_ticker emoji_ticker\n",
       "0                ®            🚀\n",
       "1                ™            😂\n",
       "2                ©            👍\n",
       "3                ⬆            🔥\n",
       "4                ‼            🤑\n",
       "5                ▪            👀\n",
       "6                             💰\n",
       "7                             🐻\n",
       "8                             📈\n",
       "9                             🤔"
      ]
     },
     "execution_count": 142,
     "metadata": {},
     "output_type": "execute_result"
    }
   ],
   "source": [
    "pd.concat([df_emoji_non_tic, df_emoji_tic], axis=1).fillna('')"
   ]
  },
  {
   "cell_type": "markdown",
   "metadata": {},
   "source": [
    "___________________"
   ]
  },
  {
   "cell_type": "markdown",
   "metadata": {},
   "source": [
    "### Feature correlation"
   ]
  },
  {
   "cell_type": "markdown",
   "metadata": {},
   "source": [
    "As `distance features` empty values were filled with `999`, it explains the following correlations:  \n",
    "* `label` is in negative correlation with `number_ent_distance`, `url_ent_distance`, `has_!`\n",
    "* `label` is in positive correlation with `picture_ent_distance`\n",
    "\n",
    "And these correlations are obvious:\n",
    "* `has_emoji` and `has_special_emoji` are highly correlated\n",
    "* `word_max` and `word_mean` are highly correlated "
   ]
  },
  {
   "cell_type": "code",
   "execution_count": 59,
   "metadata": {},
   "outputs": [
    {
     "data": {
      "image/png": "[encoded data removed]",
      "text/plain": [
       "<Figure size 432x288 with 2 Axes>"
      ]
     },
     "metadata": {
      "needs_background": "light"
     },
     "output_type": "display_data"
    }
   ],
   "source": [
    "sns.heatmap(df_all.drop(['doc', 'text', 'position'], axis=1).corr())\n",
    "plt.show()"
   ]
  },
  {
   "cell_type": "markdown",
   "metadata": {},
   "source": [
    "---"
   ]
  },
  {
   "cell_type": "markdown",
   "metadata": {},
   "source": [
    "### Box plots for length stats"
   ]
  },
  {
   "cell_type": "markdown",
   "metadata": {},
   "source": [
    "* `max length` of non-ticker words has much wider range, than ticker words have\n",
    "* non-ticker tweets are `longer`, than ticker tweets"
   ]
  },
  {
   "cell_type": "code",
   "execution_count": 61,
   "metadata": {},
   "outputs": [
    {
     "data": {
      "image/png": "[encoded data removed]",
      "text/plain": [
       "<Figure size 720x720 with 4 Axes>"
      ]
     },
     "metadata": {
      "needs_background": "light"
     },
     "output_type": "display_data"
    }
   ],
   "source": [
    "fig, axs = plt.subplots(2, 2, figsize=(10, 10))\n",
    "for i, feature in enumerate(['word_max', 'word_mean', 'word_median', 'word_count']):\n",
    "    sns.boxplot(data=df_all, y=feature, x='label', showfliers=False, ax=axs[i//2,i%2])\n",
    "plt.show()"
   ]
  },
  {
   "cell_type": "markdown",
   "metadata": {},
   "source": [
    "---"
   ]
  },
  {
   "cell_type": "markdown",
   "metadata": {},
   "source": [
    "### Countplot for binary features"
   ]
  },
  {
   "cell_type": "markdown",
   "metadata": {},
   "source": [
    "* non-ticker tweets have `!` and `?` much more often\n",
    "* while ticker tweets have special money-related `emoji`"
   ]
  },
  {
   "cell_type": "code",
   "execution_count": 79,
   "metadata": {},
   "outputs": [
    {
     "data": {
      "image/png": "[encoded data removed]",
      "text/plain": [
       "<Figure size 1440x576 with 3 Axes>"
      ]
     },
     "metadata": {
      "needs_background": "light"
     },
     "output_type": "display_data"
    }
   ],
   "source": [
    "fig, axs = plt.subplots(1, 3, figsize=(20, 8))\n",
    "for i, feature in enumerate(['has_emoji', 'has_!', 'has_?']):\n",
    "    sns.countplot(data=df_all[df_all[feature] == 1], x='label', ax=axs[i%3])\n",
    "    axs[i%3].set_title(feature)\n",
    "plt.show()"
   ]
  },
  {
   "cell_type": "markdown",
   "metadata": {},
   "source": [
    "---"
   ]
  },
  {
   "cell_type": "markdown",
   "metadata": {},
   "source": [
    "### Kdeplots for numerical features"
   ]
  },
  {
   "cell_type": "markdown",
   "metadata": {},
   "source": [
    "* by `relative_position` we can assume, that tickers often take the first positions in the document"
   ]
  },
  {
   "cell_type": "code",
   "execution_count": 133,
   "metadata": {},
   "outputs": [
    {
     "data": {
      "image/png": "[encoded data removed]",
      "text/plain": [
       "<Figure size 1080x1080 with 9 Axes>"
      ]
     },
     "metadata": {
      "needs_background": "light"
     },
     "output_type": "display_data"
    }
   ],
   "source": [
    "fig, axs = plt.subplots(3, 3, figsize=(15, 15))\n",
    "for i, feature in enumerate(['{}_distance'.format(ent) for ent in entity_list] + ['relative_pos']):\n",
    "    df = df_all.loc[df_all[feature] < 999]\n",
    "    sns.kdeplot(df.loc[df['label'] == 0, feature], label='0',ax=axs[i//3,i%3]);\n",
    "    sns.kdeplot(df.loc[df['label'] == 1, feature], label='1', ax=axs[i//3,i%3]);\n",
    "    axs[i//3,i%3].legend();\n",
    "    axs[i//3,i%3].set_title(feature);\n",
    "plt.show()"
   ]
  },
  {
   "cell_type": "markdown",
   "metadata": {},
   "source": [
    "---"
   ]
  }
 ],
 "metadata": {
  "kernelspec": {
   "display_name": "Python 3",
   "language": "python",
   "name": "python3"
  },
  "language_info": {
   "codemirror_mode": {
    "name": "ipython",
    "version": 3
   },
   "file_extension": ".py",
   "mimetype": "text/x-python",
   "name": "python",
   "nbconvert_exporter": "python",
   "pygments_lexer": "ipython3",
   "version": "3.8.2"
  }
 },
 "nbformat": 4,
 "nbformat_minor": 2
}
